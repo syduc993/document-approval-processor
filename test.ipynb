{
 "cells": [
  {
   "cell_type": "code",
   "execution_count": 20,
   "id": "b4388c34",
   "metadata": {},
   "outputs": [
    {
     "name": "stdout",
     "output_type": "stream",
     "text": [
      "=== TESTING LOCAL SERVER ===\n",
      "Health: 200 - {'status': 'OK', 'timestamp': '2025-06-26T09:34:37.826Z'}\n",
      "\n",
      "Process Document Status: 200\n",
      "Response: {\n",
      "  \"success\": true,\n",
      "  \"instanceCode\": \"84385131-2981-406E-ADAB-8766E0D9C624\",\n",
      "  \"message\": \"Đã tạo thành công đơn phê duyệt văn bản với 1 tài liệu đính kèm\",\n",
      "  \"documentInfo\": {\n",
      "    \"loaiVanBan\": \"Công văn nội bộ\"\n",
      "  },\n",
      "  \"uploadedCodes\": [\n",
      "    \"6FA7AAC5-699A-426D-B2DB-C3538B22862A\"\n",
      "  ],\n",
      "  \"documentCount\": 1\n",
      "}\n"
     ]
    }
   ],
   "source": [
    "import requests\n",
    "import json\n",
    "\n",
    "def test_local_server():\n",
    "    \"\"\"Test local server trước khi deploy\"\"\"\n",
    "    base_url = \"http://localhost:8080\"  # Local server\n",
    "    \n",
    "    # Test health\n",
    "    print(\"=== TESTING LOCAL SERVER ===\")\n",
    "    try:\n",
    "        health_response = requests.get(f\"{base_url}/health\", timeout=5)\n",
    "        print(f\"Health: {health_response.status_code} - {health_response.json()}\")\n",
    "    except Exception as e:\n",
    "        print(f\"❌ Local server not running: {e}\")\n",
    "        print(\"Chạy: npm run dev\")\n",
    "        return\n",
    "    \n",
    "    # Test process document\n",
    "    test_data = {\n",
    "        \"recordId\": \"recv6dq3ft\",\n",
    "        \"appToken\": \"Z2cxb4FTWaYhXTsJdCGlDAYYgYq\",\n",
    "        \"tableID\": \"tblpzAwC8Ol4VWmZ\",\n",
    "        \"idFieldName\": \"ID\",\n",
    "        \"loaiVanBanFieldName\": \"Loại văn bản - con\",\n",
    "        \"hoSoDinhKemFieldName\": \"Tài liệu đính kèm\",\n",
    "        \"creatorOpenId\": \"ou_41ff6114c70aef421d5e9d70953bd208\"\n",
    "    }\n",
    "    \n",
    "    try:\n",
    "        response = requests.post(f\"{base_url}/process-document\", \n",
    "            json=test_data, \n",
    "            timeout=30\n",
    "        )\n",
    "        \n",
    "        print(f\"\\nProcess Document Status: {response.status_code}\")\n",
    "        print(f\"Response: {json.dumps(response.json(), indent=2, ensure_ascii=False)}\")\n",
    "        \n",
    "    except Exception as e:\n",
    "        print(f\"❌ Local test failed: {e}\")\n",
    "\n",
    "if __name__ == \"__main__\":\n",
    "    test_local_server()\n"
   ]
  },
  {
   "cell_type": "code",
   "execution_count": null,
   "id": "442a8185",
   "metadata": {},
   "outputs": [],
   "source": []
  }
 ],
 "metadata": {
  "kernelspec": {
   "display_name": "Python 3",
   "language": "python",
   "name": "python3"
  },
  "language_info": {
   "codemirror_mode": {
    "name": "ipython",
    "version": 3
   },
   "file_extension": ".py",
   "mimetype": "text/x-python",
   "name": "python",
   "nbconvert_exporter": "python",
   "pygments_lexer": "ipython3",
   "version": "3.13.3"
  }
 },
 "nbformat": 4,
 "nbformat_minor": 5
}
